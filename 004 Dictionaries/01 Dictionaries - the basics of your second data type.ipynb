{
 "cells": [
  {
   "cell_type": "code",
   "execution_count": 3,
   "id": "aac22a52",
   "metadata": {},
   "outputs": [],
   "source": [
    "# key - value\n",
    "# can look keys up in constant time\n",
    "\n",
    "d1 = {\n",
    "    \"apple\": \"red\",\n",
    "    \"banana\": \"yellow\",\n",
    "    \"grape\": \"purple\"\n",
    "}\n",
    "\n",
    "d2 = {\n",
    "    \"apple\": 2.43,\n",
    "    \"banana\": 3.50,\n",
    "    \"grape\": 1.20\n",
    "}\n",
    "\n",
    "d3 = {\n",
    "    1: \"Bob\",\n",
    "    2: \"Suzy\",\n",
    "    3: \"Pat\"\n",
    "}\n",
    "\n",
    "d4 = {}"
   ]
  },
  {
   "cell_type": "code",
   "execution_count": 4,
   "id": "e9801d6c",
   "metadata": {},
   "outputs": [
    {
     "name": "stdout",
     "output_type": "stream",
     "text": [
      "red\n",
      "1.2\n",
      "Bob\n"
     ]
    }
   ],
   "source": [
    "print(d1[\"apple\"])\n",
    "print(d2[\"grape\"])\n",
    "print(d3[1])"
   ]
  },
  {
   "cell_type": "code",
   "execution_count": 7,
   "id": "300c147a",
   "metadata": {},
   "outputs": [
    {
     "name": "stdout",
     "output_type": "stream",
     "text": [
      "orange\n"
     ]
    }
   ],
   "source": [
    "d1[\"orange\"] = \"orange\"\n",
    "print(d1['orange'])"
   ]
  },
  {
   "cell_type": "code",
   "execution_count": 6,
   "id": "29c145ad",
   "metadata": {},
   "outputs": [
    {
     "name": "stdout",
     "output_type": "stream",
     "text": [
      "Bob\n"
     ]
    }
   ],
   "source": [
    "d3[4] = \"Bob\"\n",
    "print(d3[4])"
   ]
  },
  {
   "cell_type": "code",
   "execution_count": 8,
   "id": "d5415383",
   "metadata": {},
   "outputs": [
    {
     "ename": "KeyError",
     "evalue": "'pear'",
     "output_type": "error",
     "traceback": [
      "\u001b[0;31m---------------------------------------------------------------------------\u001b[0m",
      "\u001b[0;31mKeyError\u001b[0m                                  Traceback (most recent call last)",
      "\u001b[0;32m/var/folders/s1/81q8t5412xl07zy5lx6kl45h0000gn/T/ipykernel_21953/1328827877.py\u001b[0m in \u001b[0;36m<module>\u001b[0;34m\u001b[0m\n\u001b[1;32m      1\u001b[0m \u001b[0;31m#watch out for missing keys\u001b[0m\u001b[0;34m\u001b[0m\u001b[0;34m\u001b[0m\u001b[0m\n\u001b[0;32m----> 2\u001b[0;31m \u001b[0mprint\u001b[0m\u001b[0;34m(\u001b[0m\u001b[0md1\u001b[0m\u001b[0;34m[\u001b[0m\u001b[0;34m\"pear\"\u001b[0m\u001b[0;34m]\u001b[0m\u001b[0;34m)\u001b[0m\u001b[0;34m\u001b[0m\u001b[0;34m\u001b[0m\u001b[0m\n\u001b[0m",
      "\u001b[0;31mKeyError\u001b[0m: 'pear'"
     ]
    }
   ],
   "source": [
    "#watch out for missing keys\n",
    "print(d1[\"pear\"])"
   ]
  },
  {
   "cell_type": "code",
   "execution_count": 10,
   "id": "51b9322a",
   "metadata": {},
   "outputs": [
    {
     "name": "stdout",
     "output_type": "stream",
     "text": [
      "None\n"
     ]
    }
   ],
   "source": [
    "color = d1.get('pear', None)\n",
    "print(color)"
   ]
  },
  {
   "cell_type": "code",
   "execution_count": 11,
   "id": "cdaec696",
   "metadata": {},
   "outputs": [
    {
     "name": "stdout",
     "output_type": "stream",
     "text": [
      "{1: 'Bob', 2: 'Suzy', 3: 'Pat'}\n"
     ]
    }
   ],
   "source": [
    "del d3[4]\n",
    "\n",
    "print(d3)"
   ]
  },
  {
   "cell_type": "code",
   "execution_count": 12,
   "id": "8c960f3c",
   "metadata": {},
   "outputs": [
    {
     "ename": "KeyError",
     "evalue": "4",
     "output_type": "error",
     "traceback": [
      "\u001b[0;31m---------------------------------------------------------------------------\u001b[0m",
      "\u001b[0;31mKeyError\u001b[0m                                  Traceback (most recent call last)",
      "\u001b[0;32m/var/folders/s1/81q8t5412xl07zy5lx6kl45h0000gn/T/ipykernel_21953/252184764.py\u001b[0m in \u001b[0;36m<module>\u001b[0;34m\u001b[0m\n\u001b[0;32m----> 1\u001b[0;31m \u001b[0;32mdel\u001b[0m \u001b[0md3\u001b[0m\u001b[0;34m[\u001b[0m\u001b[0;36m4\u001b[0m\u001b[0;34m]\u001b[0m\u001b[0;34m\u001b[0m\u001b[0;34m\u001b[0m\u001b[0m\n\u001b[0m",
      "\u001b[0;31mKeyError\u001b[0m: 4"
     ]
    }
   ],
   "source": [
    "del d3[4]"
   ]
  },
  {
   "cell_type": "code",
   "execution_count": 13,
   "id": "389fc823",
   "metadata": {},
   "outputs": [
    {
     "name": "stdout",
     "output_type": "stream",
     "text": [
      "None\n"
     ]
    }
   ],
   "source": [
    "user = d3.pop(4, None)\n",
    "print(user)"
   ]
  },
  {
   "cell_type": "code",
   "execution_count": 15,
   "id": "a25d400f",
   "metadata": {},
   "outputs": [
    {
     "name": "stdout",
     "output_type": "stream",
     "text": [
      "138897\n"
     ]
    }
   ],
   "source": [
    "from string import ascii_letters\n",
    "\n",
    "with open('../003 Lists/data/tale.txt', encoding='utf-8') as f:\n",
    "    all_text = f.read()\n",
    "words = all_text.split()\n",
    "\n",
    "cleaned_words = []\n",
    "for word in words:\n",
    "    clean_word = \"\".join([letter for letter in word if letter in ascii_letters])\n",
    "    if clean_word:\n",
    "        cleaned_words.append(clean_word.lower())\n",
    "        \n",
    "sorted_words = [word for word in sorted(cleaned_words)]\n",
    "print(len(sorted_words))       "
   ]
  },
  {
   "cell_type": "code",
   "execution_count": 16,
   "id": "c4cf0252",
   "metadata": {},
   "outputs": [
    {
     "name": "stdout",
     "output_type": "stream",
     "text": [
      "169\n"
     ]
    }
   ],
   "source": [
    "# find how many times a word appears\n",
    "word_count = {}\n",
    "for word in sorted_words:\n",
    "    if word in word_count:\n",
    "        word_count[word] += 1\n",
    "    else:\n",
    "        word_count[word] = 1\n",
    "\n",
    "print(word_count['about'])"
   ]
  },
  {
   "cell_type": "code",
   "execution_count": null,
   "id": "4b25141c",
   "metadata": {},
   "outputs": [],
   "source": []
  }
 ],
 "metadata": {
  "kernelspec": {
   "display_name": "Python 3 (ipykernel)",
   "language": "python",
   "name": "python3"
  },
  "language_info": {
   "codemirror_mode": {
    "name": "ipython",
    "version": 3
   },
   "file_extension": ".py",
   "mimetype": "text/x-python",
   "name": "python",
   "nbconvert_exporter": "python",
   "pygments_lexer": "ipython3",
   "version": "3.9.7"
  }
 },
 "nbformat": 4,
 "nbformat_minor": 5
}
