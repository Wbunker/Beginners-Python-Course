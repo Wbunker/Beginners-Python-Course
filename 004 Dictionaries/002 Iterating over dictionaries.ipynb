{
 "cells": [
  {
   "cell_type": "code",
   "execution_count": 7,
   "id": "4c405a5f",
   "metadata": {},
   "outputs": [
    {
     "name": "stdout",
     "output_type": "stream",
     "text": [
      "Joe Brown\n",
      "Sue Doe\n",
      "Bill Right\n"
     ]
    }
   ],
   "source": [
    "d1 = {\n",
    "    \"Joe Brown\": 23,\n",
    "    \"Sue Doe\": 18,\n",
    "    \"Bill Right\": 20\n",
    "}\n",
    "\n",
    "for name in d1:\n",
    "    print(name)"
   ]
  },
  {
   "cell_type": "code",
   "execution_count": 8,
   "id": "cf66d6e6",
   "metadata": {},
   "outputs": [
    {
     "name": "stdout",
     "output_type": "stream",
     "text": [
      "20.333333333333332\n"
     ]
    }
   ],
   "source": [
    "sum = 0\n",
    "for age in d1.values():\n",
    "    sum += age\n",
    "    \n",
    "print(sum/len(d1))"
   ]
  },
  {
   "cell_type": "code",
   "execution_count": 9,
   "id": "b6bf02e1",
   "metadata": {},
   "outputs": [
    {
     "name": "stdout",
     "output_type": "stream",
     "text": [
      "Joe Brown is 23 years old.\n",
      "Sue Doe is 18 years old.\n",
      "Bill Right is 20 years old.\n"
     ]
    }
   ],
   "source": [
    "for name,age in d1.items():\n",
    "    print(f\"{name} is {age} years old.\")"
   ]
  },
  {
   "cell_type": "code",
   "execution_count": null,
   "id": "8067a593",
   "metadata": {},
   "outputs": [],
   "source": []
  }
 ],
 "metadata": {
  "kernelspec": {
   "display_name": "Python 3 (ipykernel)",
   "language": "python",
   "name": "python3"
  },
  "language_info": {
   "codemirror_mode": {
    "name": "ipython",
    "version": 3
   },
   "file_extension": ".py",
   "mimetype": "text/x-python",
   "name": "python",
   "nbconvert_exporter": "python",
   "pygments_lexer": "ipython3",
   "version": "3.9.7"
  }
 },
 "nbformat": 4,
 "nbformat_minor": 5
}
