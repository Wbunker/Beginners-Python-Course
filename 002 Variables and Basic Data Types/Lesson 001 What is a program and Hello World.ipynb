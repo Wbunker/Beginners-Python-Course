{
 "cells": [
  {
   "cell_type": "markdown",
   "id": "87aa18a6",
   "metadata": {},
   "source": [
    "Basic paradigm of thinking about programming\n",
    "\n",
    "1. Must get information (data) from somewhere\n",
    "\n",
    "2. (Optional) Do something to the information\n",
    "\n",
    "3. Send the information to somewhere"
   ]
  },
  {
   "cell_type": "code",
   "execution_count": 1,
   "id": "f936714a",
   "metadata": {},
   "outputs": [
    {
     "name": "stdout",
     "output_type": "stream",
     "text": [
      "Hello World\n"
     ]
    }
   ],
   "source": [
    "print(\"Hello World\")"
   ]
  },
  {
   "cell_type": "markdown",
   "id": "e4b17363",
   "metadata": {},
   "source": [
    "1. We hardcoded the information into the program\n",
    "2. We didn't do anything to it\n",
    "3. We sent the information to standard output (screen)"
   ]
  },
  {
   "cell_type": "code",
   "execution_count": 2,
   "id": "8afc2f10",
   "metadata": {},
   "outputs": [],
   "source": [
    "# Your turn\n",
    "# print out your own messages to the world\n",
    "# have fun.  You got your own personal servant (computer)\n",
    "# to do what you want it to\n",
    "# I was in awe when this happened for the first time"
   ]
  },
  {
   "cell_type": "code",
   "execution_count": null,
   "id": "e9dea52b",
   "metadata": {},
   "outputs": [],
   "source": []
  }
 ],
 "metadata": {
  "kernelspec": {
   "display_name": "Python 3 (ipykernel)",
   "language": "python",
   "name": "python3"
  },
  "language_info": {
   "codemirror_mode": {
    "name": "ipython",
    "version": 3
   },
   "file_extension": ".py",
   "mimetype": "text/x-python",
   "name": "python",
   "nbconvert_exporter": "python",
   "pygments_lexer": "ipython3",
   "version": "3.9.7"
  }
 },
 "nbformat": 4,
 "nbformat_minor": 5
}
