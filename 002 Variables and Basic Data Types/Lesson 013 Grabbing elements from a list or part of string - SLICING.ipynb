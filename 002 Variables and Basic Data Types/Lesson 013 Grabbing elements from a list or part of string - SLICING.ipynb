{
 "cells": [
  {
   "cell_type": "code",
   "execution_count": 1,
   "id": "72119238",
   "metadata": {},
   "outputs": [
    {
     "name": "stdout",
     "output_type": "stream",
     "text": [
      "Monday\n",
      "Thursday\n"
     ]
    }
   ],
   "source": [
    "# Slicing????\n",
    "# Computer term for pulling certain values out of a list\n",
    "\n",
    "#Basic syntax to remember\n",
    "#my_var[ start:end:step ]\n",
    "\n",
    "days = ['Monday', 'Tuesday', \n",
    "        'Wednesday', 'Thursday', \n",
    "        'Friday', 'Saturday', \n",
    "        'Sunday']\n",
    "\n",
    "#grab a single value\n",
    "#offset begins at zero\n",
    "print(days[0])\n",
    "\n",
    "print(days[3])"
   ]
  },
  {
   "cell_type": "code",
   "execution_count": 2,
   "id": "3f5925a4",
   "metadata": {},
   "outputs": [
    {
     "name": "stdout",
     "output_type": "stream",
     "text": [
      "Sunday\n",
      "Friday\n"
     ]
    }
   ],
   "source": [
    "# you can go from end of the list\n",
    "print(days[-1])\n",
    "print(days[-3])"
   ]
  },
  {
   "cell_type": "code",
   "execution_count": 3,
   "id": "17280e20",
   "metadata": {},
   "outputs": [
    {
     "name": "stdout",
     "output_type": "stream",
     "text": [
      "['Tuesday', 'Wednesday', 'Thursday']\n"
     ]
    }
   ],
   "source": [
    "# grab a range of items from list\n",
    "print(days[1:4])"
   ]
  },
  {
   "cell_type": "code",
   "execution_count": 4,
   "id": "f186b067",
   "metadata": {},
   "outputs": [
    {
     "name": "stdout",
     "output_type": "stream",
     "text": [
      "['Thursday', 'Friday', 'Saturday']\n"
     ]
    }
   ],
   "source": [
    "# grab a range starting at end of list\n",
    "print(days[-4:-1])"
   ]
  },
  {
   "cell_type": "code",
   "execution_count": 5,
   "id": "43e90498",
   "metadata": {},
   "outputs": [
    {
     "name": "stdout",
     "output_type": "stream",
     "text": [
      "['Monday', 'Wednesday', 'Friday', 'Sunday']\n"
     ]
    }
   ],
   "source": [
    "# get every nth item\n",
    "print(days[0:7:2])"
   ]
  },
  {
   "cell_type": "code",
   "execution_count": 6,
   "id": "eb075f9a",
   "metadata": {},
   "outputs": [
    {
     "name": "stdout",
     "output_type": "stream",
     "text": [
      "['Monday', 'Tuesday', 'Wednesday', 'Thursday', 'Friday']\n"
     ]
    }
   ],
   "source": [
    "# get from beginning to certain item\n",
    "print(days[:5])"
   ]
  },
  {
   "cell_type": "code",
   "execution_count": 7,
   "id": "df8aa217",
   "metadata": {},
   "outputs": [
    {
     "name": "stdout",
     "output_type": "stream",
     "text": [
      "['Wednesday', 'Thursday', 'Friday', 'Saturday', 'Sunday']\n"
     ]
    }
   ],
   "source": [
    "# get from certain item to end of list\n",
    "print(days[2:])"
   ]
  },
  {
   "cell_type": "code",
   "execution_count": 8,
   "id": "a8653bad",
   "metadata": {},
   "outputs": [
    {
     "name": "stdout",
     "output_type": "stream",
     "text": [
      "['Monday', 'Wednesday', 'Friday', 'Sunday']\n"
     ]
    }
   ],
   "source": [
    "# just get every other day\n",
    "print(days[::2])"
   ]
  },
  {
   "cell_type": "code",
   "execution_count": 9,
   "id": "78a9d386",
   "metadata": {},
   "outputs": [
    {
     "name": "stdout",
     "output_type": "stream",
     "text": [
      "cat in the hat\n"
     ]
    }
   ],
   "source": [
    "# What about strings?\n",
    "# strings are a list of individual characters\n",
    "phrase = \"The cat in the hat\"\n",
    "print(phrase[4:])"
   ]
  },
  {
   "cell_type": "code",
   "execution_count": 10,
   "id": "8006fa24",
   "metadata": {},
   "outputs": [
    {
     "name": "stdout",
     "output_type": "stream",
     "text": [
      " in the hat\n"
     ]
    }
   ],
   "source": [
    "# what if you wanted everything after cat\n",
    "# we are going to use find and len\n",
    "word = 'cat'\n",
    "pos = phrase.find(word)\n",
    "\n",
    "print(phrase[pos+len(word):])"
   ]
  },
  {
   "cell_type": "code",
   "execution_count": null,
   "id": "bf67fb5d",
   "metadata": {},
   "outputs": [],
   "source": []
  }
 ],
 "metadata": {
  "kernelspec": {
   "display_name": "Python 3 (ipykernel)",
   "language": "python",
   "name": "python3"
  },
  "language_info": {
   "codemirror_mode": {
    "name": "ipython",
    "version": 3
   },
   "file_extension": ".py",
   "mimetype": "text/x-python",
   "name": "python",
   "nbconvert_exporter": "python",
   "pygments_lexer": "ipython3",
   "version": "3.9.7"
  }
 },
 "nbformat": 4,
 "nbformat_minor": 5
}
