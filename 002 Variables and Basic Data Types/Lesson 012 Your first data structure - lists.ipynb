{
 "cells": [
  {
   "cell_type": "code",
   "execution_count": 3,
   "id": "981b5d68",
   "metadata": {},
   "outputs": [
    {
     "name": "stdout",
     "output_type": "stream",
     "text": [
      "['bob', 'bill', 'suzy', 'sarah']\n"
     ]
    }
   ],
   "source": [
    "# a data structure is a way of organizing information\n",
    "# each one makes doing certain operations easier/faster\n",
    "# Your very FIRST data structure is lists\n",
    "# called arrays in other languages\n",
    "\n",
    "odds = [1, 3, 5, 7, 9, 11]\n",
    "names = ['bob', 'bill', 'suzy', 'sarah']\n",
    "\n",
    "print(names)"
   ]
  },
  {
   "cell_type": "code",
   "execution_count": 4,
   "id": "d5d90f31",
   "metadata": {},
   "outputs": [
    {
     "name": "stdout",
     "output_type": "stream",
     "text": [
      "Bob\n",
      "Bill\n",
      "Suzy\n",
      "Sarah\n"
     ]
    }
   ],
   "source": [
    "# usual purpose of a list is to do something\n",
    "# to every item in list\n",
    "# new type of loop\n",
    "for name in names:\n",
    "    print(name.title())"
   ]
  },
  {
   "cell_type": "code",
   "execution_count": 5,
   "id": "d2f1eac0",
   "metadata": {},
   "outputs": [
    {
     "ename": "IndentationError",
     "evalue": "expected an indented block (579344627.py, line 4)",
     "output_type": "error",
     "traceback": [
      "\u001b[0;36m  File \u001b[0;32m\"/var/folders/s1/81q8t5412xl07zy5lx6kl45h0000gn/T/ipykernel_15800/579344627.py\"\u001b[0;36m, line \u001b[0;32m4\u001b[0m\n\u001b[0;31m    print(name.title())\u001b[0m\n\u001b[0m    ^\u001b[0m\n\u001b[0;31mIndentationError\u001b[0m\u001b[0;31m:\u001b[0m expected an indented block\n"
     ]
    }
   ],
   "source": [
    "# mistakes when doing a loop\n",
    "# forget to ident\n",
    "for name in names:\n",
    "print(name.title())"
   ]
  },
  {
   "cell_type": "code",
   "execution_count": 6,
   "id": "3ac54a3e",
   "metadata": {},
   "outputs": [
    {
     "ename": "SyntaxError",
     "evalue": "invalid syntax (3936475818.py, line 2)",
     "output_type": "error",
     "traceback": [
      "\u001b[0;36m  File \u001b[0;32m\"/var/folders/s1/81q8t5412xl07zy5lx6kl45h0000gn/T/ipykernel_15800/3936475818.py\"\u001b[0;36m, line \u001b[0;32m2\u001b[0m\n\u001b[0;31m    for name in names\u001b[0m\n\u001b[0m                     ^\u001b[0m\n\u001b[0;31mSyntaxError\u001b[0m\u001b[0;31m:\u001b[0m invalid syntax\n"
     ]
    }
   ],
   "source": [
    "# forget the colon\n",
    "for name in names\n",
    "    print(name.title())"
   ]
  },
  {
   "cell_type": "code",
   "execution_count": 8,
   "id": "79a9e470",
   "metadata": {},
   "outputs": [
    {
     "name": "stdout",
     "output_type": "stream",
     "text": [
      "BOB\n",
      "BILL\n",
      "SUZY\n",
      "SARAH\n",
      "sarah\n"
     ]
    }
   ],
   "source": [
    "# try to do two things\n",
    "# and only ident one line\n",
    "for name in names:\n",
    "    print(name.upper())\n",
    "print(name.lower())"
   ]
  },
  {
   "cell_type": "code",
   "execution_count": 9,
   "id": "324152bd",
   "metadata": {},
   "outputs": [
    {
     "name": "stdout",
     "output_type": "stream",
     "text": [
      "BOB\n",
      "bob\n",
      "BILL\n",
      "bill\n",
      "SUZY\n",
      "suzy\n",
      "SARAH\n",
      "sarah\n"
     ]
    }
   ],
   "source": [
    "# forget to ident\n",
    "for name in names:\n",
    "    print(name.upper())\n",
    "    print(name.lower())"
   ]
  },
  {
   "cell_type": "code",
   "execution_count": 10,
   "id": "03d19ce1",
   "metadata": {},
   "outputs": [
    {
     "name": "stdout",
     "output_type": "stream",
     "text": [
      "BOB\n",
      "['bob', 'bill', 'suzy', 'sarah']\n",
      "BILL\n",
      "['bob', 'bill', 'suzy', 'sarah']\n",
      "SUZY\n",
      "['bob', 'bill', 'suzy', 'sarah']\n",
      "SARAH\n",
      "['bob', 'bill', 'suzy', 'sarah']\n"
     ]
    }
   ],
   "source": [
    "# putting final step inside loop\n",
    "for name in names:\n",
    "    print(name.upper())\n",
    "    print(names)"
   ]
  },
  {
   "cell_type": "code",
   "execution_count": 14,
   "id": "55f3aa20",
   "metadata": {},
   "outputs": [
    {
     "name": "stdout",
     "output_type": "stream",
     "text": [
      "Give me a comma separated list of fruit: banaNa, Grape, Orange\n",
      "['banaNa', ' Grape', ' Orange']\n",
      "banana\n",
      "grape\n",
      "orange\n"
     ]
    }
   ],
   "source": [
    "# create a list from user input\n",
    "answer = input(\"Give me a comma separated list of fruit: \")\n",
    "\n",
    "fruits = answer.split(',')\n",
    "print(fruits)\n",
    "for fruit in fruits:\n",
    "    print(fruit.lower().strip())\n"
   ]
  },
  {
   "cell_type": "code",
   "execution_count": null,
   "id": "f70eaffb",
   "metadata": {},
   "outputs": [],
   "source": []
  }
 ],
 "metadata": {
  "kernelspec": {
   "display_name": "Python 3 (ipykernel)",
   "language": "python",
   "name": "python3"
  },
  "language_info": {
   "codemirror_mode": {
    "name": "ipython",
    "version": 3
   },
   "file_extension": ".py",
   "mimetype": "text/x-python",
   "name": "python",
   "nbconvert_exporter": "python",
   "pygments_lexer": "ipython3",
   "version": "3.9.7"
  }
 },
 "nbformat": 4,
 "nbformat_minor": 5
}
