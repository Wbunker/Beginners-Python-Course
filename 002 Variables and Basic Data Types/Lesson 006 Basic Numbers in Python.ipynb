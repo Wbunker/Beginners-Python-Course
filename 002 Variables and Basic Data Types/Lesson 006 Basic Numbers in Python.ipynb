{
 "cells": [
  {
   "cell_type": "code",
   "execution_count": 8,
   "id": "e9a00dea",
   "metadata": {},
   "outputs": [
    {
     "name": "stdout",
     "output_type": "stream",
     "text": [
      "3\n",
      "0.3333333333333333\n",
      "12.3\n"
     ]
    }
   ],
   "source": [
    "# 2 basic types of numbers\n",
    "i = 3\n",
    "f = 1 / 3\n",
    "f2 = 12.3\n",
    "\n",
    "print(i)\n",
    "print(f)\n",
    "print(f2)"
   ]
  },
  {
   "cell_type": "code",
   "execution_count": 4,
   "id": "f46597d8",
   "metadata": {},
   "outputs": [
    {
     "name": "stdout",
     "output_type": "stream",
     "text": [
      "3.3333333333333335\n",
      "2.6666666666666665\n",
      "1.0\n",
      "0.1111111111111111\n"
     ]
    }
   ],
   "source": [
    "# you can do math\n",
    "print(i + f)\n",
    "print(i - f)\n",
    "print(i * f)\n",
    "print(f / i)"
   ]
  },
  {
   "cell_type": "code",
   "execution_count": 9,
   "id": "d6ea781e",
   "metadata": {},
   "outputs": [
    {
     "data": {
      "text/plain": [
       "39"
      ]
     },
     "execution_count": 9,
     "metadata": {},
     "output_type": "execute_result"
    }
   ],
   "source": [
    "(6 + 7) * 3"
   ]
  },
  {
   "cell_type": "code",
   "execution_count": 10,
   "id": "69cce872",
   "metadata": {},
   "outputs": [
    {
     "data": {
      "text/plain": [
       "27"
      ]
     },
     "execution_count": 10,
     "metadata": {},
     "output_type": "execute_result"
    }
   ],
   "source": [
    "6 + 7 * 3"
   ]
  },
  {
   "cell_type": "code",
   "execution_count": 5,
   "id": "70863a57",
   "metadata": {},
   "outputs": [
    {
     "name": "stdout",
     "output_type": "stream",
     "text": [
      "How many cats? 3\n"
     ]
    },
    {
     "ename": "TypeError",
     "evalue": "unsupported operand type(s) for -: 'str' and 'int'",
     "output_type": "error",
     "traceback": [
      "\u001b[0;31m---------------------------------------------------------------------------\u001b[0m",
      "\u001b[0;31mTypeError\u001b[0m                                 Traceback (most recent call last)",
      "\u001b[0;32m/var/folders/s1/81q8t5412xl07zy5lx6kl45h0000gn/T/ipykernel_65411/289310231.py\u001b[0m in \u001b[0;36m<module>\u001b[0;34m\u001b[0m\n\u001b[1;32m      2\u001b[0m \u001b[0mi\u001b[0m \u001b[0;34m=\u001b[0m \u001b[0minput\u001b[0m\u001b[0;34m(\u001b[0m\u001b[0;34m\"How many cats? \"\u001b[0m\u001b[0;34m)\u001b[0m\u001b[0;34m\u001b[0m\u001b[0;34m\u001b[0m\u001b[0m\n\u001b[1;32m      3\u001b[0m \u001b[0;34m\u001b[0m\u001b[0m\n\u001b[0;32m----> 4\u001b[0;31m \u001b[0mprint\u001b[0m\u001b[0;34m(\u001b[0m\u001b[0mi\u001b[0m \u001b[0;34m-\u001b[0m \u001b[0;36m1\u001b[0m\u001b[0;34m)\u001b[0m\u001b[0;34m\u001b[0m\u001b[0;34m\u001b[0m\u001b[0m\n\u001b[0m",
      "\u001b[0;31mTypeError\u001b[0m: unsupported operand type(s) for -: 'str' and 'int'"
     ]
    }
   ],
   "source": [
    "# change a string to a integer\n",
    "count = input(\"How many cats? \")\n",
    "\n",
    "print(count - 1)"
   ]
  },
  {
   "cell_type": "code",
   "execution_count": 6,
   "id": "420dd692",
   "metadata": {},
   "outputs": [
    {
     "name": "stdout",
     "output_type": "stream",
     "text": [
      "2\n"
     ]
    }
   ],
   "source": [
    "count = int(count)\n",
    "print(count - 1)"
   ]
  },
  {
   "cell_type": "code",
   "execution_count": 7,
   "id": "97e7b095",
   "metadata": {},
   "outputs": [
    {
     "name": "stdout",
     "output_type": "stream",
     "text": [
      "How much does it cost? 1.1\n",
      "1.2100000000000002\n"
     ]
    }
   ],
   "source": [
    "# change a string to a float\n",
    "cost = input(\"How much does it cost? \")\n",
    "cost = float(cost)\n",
    "print(cost * 1.1)"
   ]
  },
  {
   "cell_type": "code",
   "execution_count": null,
   "id": "dae1d3cf",
   "metadata": {},
   "outputs": [],
   "source": []
  }
 ],
 "metadata": {
  "kernelspec": {
   "display_name": "Python 3 (ipykernel)",
   "language": "python",
   "name": "python3"
  },
  "language_info": {
   "codemirror_mode": {
    "name": "ipython",
    "version": 3
   },
   "file_extension": ".py",
   "mimetype": "text/x-python",
   "name": "python",
   "nbconvert_exporter": "python",
   "pygments_lexer": "ipython3",
   "version": "3.9.7"
  }
 },
 "nbformat": 4,
 "nbformat_minor": 5
}
