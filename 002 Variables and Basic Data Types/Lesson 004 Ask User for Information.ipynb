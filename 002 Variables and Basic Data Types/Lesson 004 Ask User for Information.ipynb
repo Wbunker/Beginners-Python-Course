{
 "cells": [
  {
   "cell_type": "code",
   "execution_count": 2,
   "id": "cf05b31a",
   "metadata": {},
   "outputs": [
    {
     "name": "stdout",
     "output_type": "stream",
     "text": [
      "What do you want to say?Hello fellow programmers\n",
      "Hello fellow programmers\n"
     ]
    }
   ],
   "source": [
    "message = input(\"What do you want to say?\")\n",
    "\n",
    "print(message)"
   ]
  },
  {
   "cell_type": "markdown",
   "id": "1df00536",
   "metadata": {},
   "source": [
    "1. We got the information from user input\n",
    "2. We assigned it to a variable\n",
    "3. We sent the information to standard output (screen)"
   ]
  },
  {
   "cell_type": "code",
   "execution_count": null,
   "id": "efa7e7a3",
   "metadata": {},
   "outputs": [],
   "source": []
  }
 ],
 "metadata": {
  "kernelspec": {
   "display_name": "3.10",
   "language": "python",
   "name": "python3.10"
  },
  "language_info": {
   "codemirror_mode": {
    "name": "ipython",
    "version": 3
   },
   "file_extension": ".py",
   "mimetype": "text/x-python",
   "name": "python",
   "nbconvert_exporter": "python",
   "pygments_lexer": "ipython3",
   "version": "3.10.7"
  }
 },
 "nbformat": 4,
 "nbformat_minor": 5
}
