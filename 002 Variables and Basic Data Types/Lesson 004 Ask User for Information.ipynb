{
 "cells": [
  {
   "cell_type": "code",
   "execution_count": 1,
   "id": "cf05b31a",
   "metadata": {},
   "outputs": [
    {
     "name": "stdout",
     "output_type": "stream",
     "text": [
      "What do you want to say? Hello cruel world!!!!\n",
      "Hello cruel world!!!!\n"
     ]
    }
   ],
   "source": [
    "message = input(\"What do you want to say? \")\n",
    "\n",
    "print(message)\n"
   ]
  },
  {
   "cell_type": "code",
   "execution_count": null,
   "id": "7fc877ad",
   "metadata": {},
   "outputs": [],
   "source": []
  },
  {
   "cell_type": "markdown",
   "id": "1df00536",
   "metadata": {},
   "source": [
    "\n",
    "\n",
    "\n",
    "\n",
    "\n",
    "\n",
    "1. We got the information from user input\n",
    "2. We assigned it to a variable\n",
    "3. We sent the information to standard output (screen)"
   ]
  },
  {
   "cell_type": "code",
   "execution_count": null,
   "id": "efa7e7a3",
   "metadata": {},
   "outputs": [],
   "source": []
  }
 ],
 "metadata": {
  "kernelspec": {
   "display_name": "Python 3 (ipykernel)",
   "language": "python",
   "name": "python3"
  },
  "language_info": {
   "codemirror_mode": {
    "name": "ipython",
    "version": 3
   },
   "file_extension": ".py",
   "mimetype": "text/x-python",
   "name": "python",
   "nbconvert_exporter": "python",
   "pygments_lexer": "ipython3",
   "version": "3.9.7"
  }
 },
 "nbformat": 4,
 "nbformat_minor": 5
}
