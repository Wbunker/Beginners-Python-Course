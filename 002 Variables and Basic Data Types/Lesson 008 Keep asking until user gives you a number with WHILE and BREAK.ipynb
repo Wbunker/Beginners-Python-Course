{
 "cells": [
  {
   "cell_type": "code",
   "execution_count": 2,
   "id": "8129597d",
   "metadata": {},
   "outputs": [
    {
     "name": "stdout",
     "output_type": "stream",
     "text": [
      "What is temp in F? 33 f\n",
      "You did not input a valid number: 33 f\n",
      "What is temp in F? no\n",
      "You did not input a valid number: no\n",
      "What is temp in F? 33.3\n",
      "The temp in Celsius is 0.7222222222222207\n"
     ]
    }
   ],
   "source": [
    "while True:\n",
    "    temp_F = input(\"What is temp in F? \")\n",
    "\n",
    "    try:\n",
    "        temp_F = float(temp_F)\n",
    "        temp_C = (temp_F - 32) * (5/9)\n",
    "        print(f\"The temp in Celsius is {temp_C}\")\n",
    "        break\n",
    "    except ValueError as err:\n",
    "        print(f\"You did not input a valid number: {temp_F}\")"
   ]
  },
  {
   "cell_type": "code",
   "execution_count": null,
   "id": "84841d6f",
   "metadata": {},
   "outputs": [],
   "source": []
  }
 ],
 "metadata": {
  "kernelspec": {
   "display_name": "Python 3 (ipykernel)",
   "language": "python",
   "name": "python3"
  },
  "language_info": {
   "codemirror_mode": {
    "name": "ipython",
    "version": 3
   },
   "file_extension": ".py",
   "mimetype": "text/x-python",
   "name": "python",
   "nbconvert_exporter": "python",
   "pygments_lexer": "ipython3",
   "version": "3.9.7"
  }
 },
 "nbformat": 4,
 "nbformat_minor": 5
}
