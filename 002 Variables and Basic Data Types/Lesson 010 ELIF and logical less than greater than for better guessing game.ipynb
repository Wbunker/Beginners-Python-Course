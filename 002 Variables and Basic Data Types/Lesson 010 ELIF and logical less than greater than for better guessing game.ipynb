{
 "cells": [
  {
   "cell_type": "code",
   "execution_count": null,
   "id": "24d4f114",
   "metadata": {},
   "outputs": [],
   "source": [
    "#original\n",
    "from random import randint\n",
    "num = randint(1, 10)\n",
    "\n",
    "while True:\n",
    "    guess = input(\"Guess a number between 1 and 10? \")\n",
    "    try:\n",
    "        guess = int(guess)\n",
    "        if (guess == num):\n",
    "            print(f\"You guessed the number: {num}\")\n",
    "            break\n",
    "        else:\n",
    "            print(f\"Wrong the number was not {guess}\")\n",
    "    except ValueError as err:\n",
    "        print(f\"You did not input a valid number: {guess}\")"
   ]
  },
  {
   "cell_type": "code",
   "execution_count": 1,
   "id": "2326c041",
   "metadata": {},
   "outputs": [
    {
     "name": "stdout",
     "output_type": "stream",
     "text": [
      "Guess a number between 1 and 10? 5\n",
      "You guessed to high\n",
      "Guess a number between 1 and 10? 3\n",
      "You guessed the number: 3\n"
     ]
    }
   ],
   "source": [
    "# using < and >\n",
    "from random import randint\n",
    "num = randint(1, 10)\n",
    "\n",
    "while True:\n",
    "    guess = input(\"Guess a number between 1 and 10? \")\n",
    "    try:\n",
    "        guess = int(guess)\n",
    "        if (guess == num):\n",
    "            print(f\"You guessed the number: {num}\")\n",
    "            break\n",
    "        elif guess < num:\n",
    "            print(\"You guessed too low\")\n",
    "        elif guess > num:\n",
    "            print(\"You guessed too high\")\n",
    "    except ValueError as err:\n",
    "        print(f\"You did not input a valid number: {guess}\")"
   ]
  },
  {
   "cell_type": "code",
   "execution_count": null,
   "id": "54f3343c",
   "metadata": {},
   "outputs": [],
   "source": []
  }
 ],
 "metadata": {
  "kernelspec": {
   "display_name": "Python 3 (ipykernel)",
   "language": "python",
   "name": "python3"
  },
  "language_info": {
   "codemirror_mode": {
    "name": "ipython",
    "version": 3
   },
   "file_extension": ".py",
   "mimetype": "text/x-python",
   "name": "python",
   "nbconvert_exporter": "python",
   "pygments_lexer": "ipython3",
   "version": "3.9.7"
  }
 },
 "nbformat": 4,
 "nbformat_minor": 5
}
