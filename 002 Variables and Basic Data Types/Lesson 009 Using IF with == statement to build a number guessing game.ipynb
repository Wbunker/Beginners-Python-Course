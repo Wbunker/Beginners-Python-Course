{
 "cells": [
  {
   "cell_type": "code",
   "execution_count": 8,
   "id": "9ffdfc9e",
   "metadata": {},
   "outputs": [
    {
     "name": "stdout",
     "output_type": "stream",
     "text": [
      "Guess a number between 1 and 10? 1\n",
      "Wrong the number was not 1\n",
      "Guess a number between 1 and 10? 2\n",
      "Wrong the number was not 2\n",
      "Guess a number between 1 and 10? 3\n",
      "Wrong the number was not 3\n",
      "Guess a number between 1 and 10? 4\n",
      "Wrong the number was not 4\n",
      "Guess a number between 1 and 10? 5\n",
      "Wrong the number was not 5\n",
      "Guess a number between 1 and 10? 6\n",
      "You guessed the number: 6\n"
     ]
    }
   ],
   "source": [
    "from random import randint\n",
    "\n",
    "num = randint(1, 10)\n",
    "\n",
    "while True:\n",
    "    guess = input(\"Guess a number between 1 and 10? \")\n",
    "\n",
    "    try:\n",
    "        guess = int(guess)\n",
    "        if (guess == num):\n",
    "            print(f\"You guessed the number: {num}\")\n",
    "            break\n",
    "        else:\n",
    "            print(f\"Wrong the number was not {guess}\")\n",
    "    except ValueError as err:\n",
    "        print(f\"You did not input a valid number: {guess}\")"
   ]
  },
  {
   "cell_type": "code",
   "execution_count": null,
   "id": "6e3b0d71",
   "metadata": {},
   "outputs": [],
   "source": []
  }
 ],
 "metadata": {
  "kernelspec": {
   "display_name": "Python 3 (ipykernel)",
   "language": "python",
   "name": "python3"
  },
  "language_info": {
   "codemirror_mode": {
    "name": "ipython",
    "version": 3
   },
   "file_extension": ".py",
   "mimetype": "text/x-python",
   "name": "python",
   "nbconvert_exporter": "python",
   "pygments_lexer": "ipython3",
   "version": "3.9.7"
  }
 },
 "nbformat": 4,
 "nbformat_minor": 5
}
