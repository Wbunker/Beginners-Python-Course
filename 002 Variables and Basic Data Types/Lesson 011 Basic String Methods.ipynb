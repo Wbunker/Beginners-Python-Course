{
 "cells": [
  {
   "cell_type": "code",
   "execution_count": 39,
   "id": "fba61890",
   "metadata": {},
   "outputs": [
    {
     "name": "stdout",
     "output_type": "stream",
     "text": [
      "Will Bunker\n"
     ]
    }
   ],
   "source": [
    "# what are these # statements\n",
    "# know where to look in documentation\n",
    "# https://docs.python.org/3/library/stdtypes.html#string-methods\n",
    "    \n",
    "# handling capitalization\n",
    "name = 'will bUnker'\n",
    "\n",
    "print(name.title())"
   ]
  },
  {
   "cell_type": "code",
   "execution_count": 2,
   "id": "df530999",
   "metadata": {},
   "outputs": [
    {
     "name": "stdout",
     "output_type": "stream",
     "text": [
      "The bear jumped out of the woods.\n"
     ]
    }
   ],
   "source": [
    "sentence = 'the bear jumped out of the woods.'\n",
    "print(sentence.capitalize())"
   ]
  },
  {
   "cell_type": "code",
   "execution_count": 5,
   "id": "eb80d8de",
   "metadata": {},
   "outputs": [
    {
     "name": "stdout",
     "output_type": "stream",
     "text": [
      "False\n",
      "False\n",
      "True\n",
      "True\n"
     ]
    }
   ],
   "source": [
    "# to make comparisons it can help to upper or lower case\n",
    "last_name = 'bUnker'\n",
    "\n",
    "print(last_name == 'Bunker')\n",
    "print(last_name == 'Bunker' or last_name == 'bunker')\n",
    "\n",
    "print(last_name.upper() == 'BUNKER')\n",
    "print(last_name.lower() == 'bunker')"
   ]
  },
  {
   "cell_type": "code",
   "execution_count": 6,
   "id": "5d160a90",
   "metadata": {},
   "outputs": [
    {
     "name": "stdout",
     "output_type": "stream",
     "text": [
      "BuNKER\n"
     ]
    }
   ],
   "source": [
    "print(last_name.swapcase())"
   ]
  },
  {
   "cell_type": "code",
   "execution_count": 9,
   "id": "501e4fa0",
   "metadata": {},
   "outputs": [
    {
     "name": "stdout",
     "output_type": "stream",
     "text": [
      "False\n"
     ]
    }
   ],
   "source": [
    "# handling extra white space\n",
    "name = 'will bunker \\t\\n'\n",
    "print(name.lower() == 'will bunker')"
   ]
  },
  {
   "cell_type": "code",
   "execution_count": 10,
   "id": "2632728f",
   "metadata": {},
   "outputs": [
    {
     "name": "stdout",
     "output_type": "stream",
     "text": [
      "True\n"
     ]
    }
   ],
   "source": [
    "# can chain multiple calls\n",
    "# if string function returns a string\n",
    "print(name.lower().strip() == 'will bunker')"
   ]
  },
  {
   "cell_type": "code",
   "execution_count": 14,
   "id": "061c4291",
   "metadata": {},
   "outputs": [
    {
     "name": "stdout",
     "output_type": "stream",
     "text": [
      "You name is Will Bunker.\n"
     ]
    }
   ],
   "source": [
    "name = name.rstrip()\n",
    "print(f'You name is {name.title()}.')\n",
    "\n",
    "# there is also lstrip()"
   ]
  },
  {
   "cell_type": "code",
   "execution_count": 15,
   "id": "72a58c3e",
   "metadata": {},
   "outputs": [
    {
     "name": "stdout",
     "output_type": "stream",
     "text": [
      "---------Hello world----------\n",
      "-------This is my debut-------\n"
     ]
    }
   ],
   "source": [
    "# formatting output\n",
    "print(\"Hello world\".center(30, '-'))\n",
    "print(\"This is my debut\".center(30, '-'))"
   ]
  },
  {
   "cell_type": "code",
   "execution_count": 40,
   "id": "64866521",
   "metadata": {},
   "outputs": [
    {
     "name": "stdout",
     "output_type": "stream",
     "text": [
      "Hello world*******************\n",
      "This is my debut**************\n"
     ]
    }
   ],
   "source": [
    "print(\"Hello world\".ljust(30, '*'))\n",
    "print(\"This is my debut\".ljust(30, '*'))"
   ]
  },
  {
   "cell_type": "code",
   "execution_count": 19,
   "id": "dae80db6",
   "metadata": {},
   "outputs": [
    {
     "name": "stdout",
     "output_type": "stream",
     "text": [
      "                   Hello world\n",
      "              This is my debut\n"
     ]
    }
   ],
   "source": [
    "print(\"Hello world\".rjust(30))\n",
    "print(\"This is my debut\".rjust(30))"
   ]
  },
  {
   "cell_type": "code",
   "execution_count": 20,
   "id": "ce2abffa",
   "metadata": {},
   "outputs": [
    {
     "name": "stdout",
     "output_type": "stream",
     "text": [
      "0020\n"
     ]
    }
   ],
   "source": [
    "# having a certain number of characters\n",
    "lesson = \"20\"\n",
    "print(lesson.zfill(4))"
   ]
  },
  {
   "cell_type": "code",
   "execution_count": 21,
   "id": "0df6cf9d",
   "metadata": {},
   "outputs": [
    {
     "name": "stdout",
     "output_type": "stream",
     "text": [
      "you entered a number\n"
     ]
    }
   ],
   "source": [
    "# whole series of isxxxx methods\n",
    "user_info = \"2332\"\n",
    "\n",
    "if user_info.isdigit():\n",
    "    print(\"you entered a integer\")"
   ]
  },
  {
   "cell_type": "code",
   "execution_count": 29,
   "id": "62241e42",
   "metadata": {},
   "outputs": [
    {
     "name": "stdout",
     "output_type": "stream",
     "text": [
      "True\n",
      "False\n",
      "False\n"
     ]
    }
   ],
   "source": [
    "user_info = \"Will Bunker\"\n",
    "\n",
    "print(user_info.istitle())\n",
    "print(user_info.isupper())\n",
    "print(user_info.islower())\n"
   ]
  },
  {
   "cell_type": "code",
   "execution_count": 30,
   "id": "c92584f7",
   "metadata": {},
   "outputs": [
    {
     "name": "stdout",
     "output_type": "stream",
     "text": [
      "5\n"
     ]
    }
   ],
   "source": [
    "# look for strings inside your string\n",
    "story = \"Once upon a time\"\n",
    "\n",
    "loc = story.find('upon')\n",
    "print(loc)\n",
    "\n",
    "loc = story.index('upon')\n",
    "print(loc)"
   ]
  },
  {
   "cell_type": "code",
   "execution_count": 32,
   "id": "df4a0ee0",
   "metadata": {},
   "outputs": [
    {
     "name": "stdout",
     "output_type": "stream",
     "text": [
      "-1\n"
     ]
    },
    {
     "ename": "ValueError",
     "evalue": "substring not found",
     "output_type": "error",
     "traceback": [
      "\u001b[0;31m---------------------------------------------------------------------------\u001b[0m",
      "\u001b[0;31mValueError\u001b[0m                                Traceback (most recent call last)",
      "\u001b[0;32m/var/folders/s1/81q8t5412xl07zy5lx6kl45h0000gn/T/ipykernel_6851/3225644418.py\u001b[0m in \u001b[0;36m<module>\u001b[0;34m\u001b[0m\n\u001b[1;32m      2\u001b[0m \u001b[0mprint\u001b[0m\u001b[0;34m(\u001b[0m\u001b[0mloc\u001b[0m\u001b[0;34m)\u001b[0m\u001b[0;34m\u001b[0m\u001b[0;34m\u001b[0m\u001b[0m\n\u001b[1;32m      3\u001b[0m \u001b[0;34m\u001b[0m\u001b[0m\n\u001b[0;32m----> 4\u001b[0;31m \u001b[0mloc\u001b[0m \u001b[0;34m=\u001b[0m \u001b[0mstory\u001b[0m\u001b[0;34m.\u001b[0m\u001b[0mindex\u001b[0m\u001b[0;34m(\u001b[0m\u001b[0;34m'hound'\u001b[0m\u001b[0;34m)\u001b[0m\u001b[0;34m\u001b[0m\u001b[0;34m\u001b[0m\u001b[0m\n\u001b[0m\u001b[1;32m      5\u001b[0m \u001b[0mprint\u001b[0m\u001b[0;34m(\u001b[0m\u001b[0mloc\u001b[0m\u001b[0;34m)\u001b[0m\u001b[0;34m\u001b[0m\u001b[0;34m\u001b[0m\u001b[0m\n",
      "\u001b[0;31mValueError\u001b[0m: substring not found"
     ]
    }
   ],
   "source": [
    "loc = story.find('hound')\n",
    "print(loc)\n",
    "\n",
    "loc = story.index('hound')\n",
    "print(loc)"
   ]
  },
  {
   "cell_type": "code",
   "execution_count": 34,
   "id": "3c40cf78",
   "metadata": {},
   "outputs": [
    {
     "name": "stdout",
     "output_type": "stream",
     "text": [
      "True\n",
      "False\n"
     ]
    }
   ],
   "source": [
    "print(story.startswith('Once'))\n",
    "print(story.endswith('there'))"
   ]
  },
  {
   "cell_type": "code",
   "execution_count": 35,
   "id": "19bdfef4",
   "metadata": {},
   "outputs": [
    {
     "name": "stdout",
     "output_type": "stream",
     "text": [
      " upon a time\n",
      "Once upon a \n"
     ]
    }
   ],
   "source": [
    "print(story.removeprefix('Once'))\n",
    "print(story.removesuffix('time'))"
   ]
  },
  {
   "cell_type": "code",
   "execution_count": 37,
   "id": "b4d314a8",
   "metadata": {},
   "outputs": [
    {
     "name": "stdout",
     "output_type": "stream",
     "text": [
      "2\n"
     ]
    }
   ],
   "source": [
    "print(story.count('e'))"
   ]
  },
  {
   "cell_type": "code",
   "execution_count": 38,
   "id": "f9fc75c0",
   "metadata": {},
   "outputs": [
    {
     "name": "stdout",
     "output_type": "stream",
     "text": [
      "Onc@ upon a tim@\n"
     ]
    }
   ],
   "source": [
    "print(story.replace('e', '@'))"
   ]
  },
  {
   "cell_type": "code",
   "execution_count": null,
   "id": "d8000995",
   "metadata": {},
   "outputs": [],
   "source": [
    "# practice #practice #practice"
   ]
  }
 ],
 "metadata": {
  "kernelspec": {
   "display_name": "Python 3 (ipykernel)",
   "language": "python",
   "name": "python3"
  },
  "language_info": {
   "codemirror_mode": {
    "name": "ipython",
    "version": 3
   },
   "file_extension": ".py",
   "mimetype": "text/x-python",
   "name": "python",
   "nbconvert_exporter": "python",
   "pygments_lexer": "ipython3",
   "version": "3.9.7"
  }
 },
 "nbformat": 4,
 "nbformat_minor": 5
}
