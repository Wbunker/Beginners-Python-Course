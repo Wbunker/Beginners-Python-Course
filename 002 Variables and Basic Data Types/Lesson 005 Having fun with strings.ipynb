{
 "cells": [
  {
   "cell_type": "code",
   "execution_count": 1,
   "id": "df7168bc",
   "metadata": {},
   "outputs": [],
   "source": [
    "# what are strings - text\n",
    "# 3 ways to make strings\n",
    "s1 = \"blue\"\n",
    "s2 = 'rabbit'\n",
    "s3 = \"\"\"This is for really\n",
    "long text that takes\n",
    "up more than one line\n",
    "\"\"\""
   ]
  },
  {
   "cell_type": "code",
   "execution_count": 3,
   "id": "0f533f3a",
   "metadata": {},
   "outputs": [
    {
     "name": "stdout",
     "output_type": "stream",
     "text": [
      "My favorite color is blue\n"
     ]
    }
   ],
   "source": [
    "fstring = f\"My favorite color is {s1}\"\n",
    "print(fstring)"
   ]
  },
  {
   "cell_type": "code",
   "execution_count": 6,
   "id": "f52b433a",
   "metadata": {},
   "outputs": [
    {
     "name": "stdout",
     "output_type": "stream",
     "text": [
      "Name a color: red\n",
      "Give me a number: 3\n",
      "Name an animal: elephant\n",
      "In walked 3 red elephants\n"
     ]
    }
   ],
   "source": [
    "c = input(\"Name a color: \")\n",
    "n = input(\"Give me a number: \")\n",
    "a = input(\"Name an animal: \")\n",
    "adlib = f\"In walked {n} {c} {a}s\"\n",
    "print(adlib)"
   ]
  },
  {
   "cell_type": "code",
   "execution_count": null,
   "id": "61961fd2",
   "metadata": {},
   "outputs": [],
   "source": []
  }
 ],
 "metadata": {
  "kernelspec": {
   "display_name": "Python 3 (ipykernel)",
   "language": "python",
   "name": "python3"
  },
  "language_info": {
   "codemirror_mode": {
    "name": "ipython",
    "version": 3
   },
   "file_extension": ".py",
   "mimetype": "text/x-python",
   "name": "python",
   "nbconvert_exporter": "python",
   "pygments_lexer": "ipython3",
   "version": "3.9.7"
  }
 },
 "nbformat": 4,
 "nbformat_minor": 5
}
