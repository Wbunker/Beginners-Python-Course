{
 "cells": [
  {
   "cell_type": "code",
   "execution_count": 1,
   "id": "1d0dc40d",
   "metadata": {},
   "outputs": [
    {
     "name": "stdout",
     "output_type": "stream",
     "text": [
      "Hello World!\n"
     ]
    }
   ],
   "source": [
    "message = \"Hello World!\"\n",
    "\n",
    "print(message)"
   ]
  },
  {
   "cell_type": "markdown",
   "id": "10d55799",
   "metadata": {},
   "source": [
    "1. We hardcoded the information into the program\n",
    "2. We assigned it to a variable\n",
    "3. We sent the information to standard output (screen)\n",
    "\n",
    "Why are their variables.  You need a place to store the information\n",
    "you bring into your program to work on.\n",
    "You need to store intermediate results.\n",
    "\n",
    "Practice, make your own variables, print using them\n",
    "This doesn't help you if you only watch the video\n",
    "You might even hit your first error message"
   ]
  },
  {
   "cell_type": "code",
   "execution_count": null,
   "id": "60b33bd1",
   "metadata": {},
   "outputs": [],
   "source": []
  }
 ],
 "metadata": {
  "kernelspec": {
   "display_name": "Python 3 (ipykernel)",
   "language": "python",
   "name": "python3"
  },
  "language_info": {
   "codemirror_mode": {
    "name": "ipython",
    "version": 3
   },
   "file_extension": ".py",
   "mimetype": "text/x-python",
   "name": "python",
   "nbconvert_exporter": "python",
   "pygments_lexer": "ipython3",
   "version": "3.9.7"
  }
 },
 "nbformat": 4,
 "nbformat_minor": 5
}
