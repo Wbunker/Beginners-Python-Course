{
 "cells": [
  {
   "cell_type": "code",
   "execution_count": 7,
   "id": "436e942d",
   "metadata": {},
   "outputs": [
    {
     "name": "stdout",
     "output_type": "stream",
     "text": [
      "138965\n"
     ]
    }
   ],
   "source": [
    "from string import ascii_letters\n",
    "\n",
    "with open('data/tale.txt', encoding='utf-8') as f:\n",
    "    all_text = f.read()\n",
    "words = all_text.split()\n",
    "print(len(words))"
   ]
  },
  {
   "cell_type": "code",
   "execution_count": 6,
   "id": "584de908",
   "metadata": {},
   "outputs": [
    {
     "name": "stdout",
     "output_type": "stream",
     "text": [
      "138897\n"
     ]
    }
   ],
   "source": [
    "cleaned_words = []\n",
    "for word in words:\n",
    "    clean_word = \"\"\n",
    "    for letter in word:\n",
    "        if letter in ascii_letters:\n",
    "            clean_word += letter\n",
    "    if clean_word:\n",
    "        cleaned_words.append(clean_word.lower())\n",
    "        \n",
    "print(len(cleaned_words))"
   ]
  },
  {
   "cell_type": "code",
   "execution_count": 8,
   "id": "71e140fc",
   "metadata": {},
   "outputs": [
    {
     "name": "stdout",
     "output_type": "stream",
     "text": [
      "['youve', 'youve', 'youve', 'youve', 'youve', 'youve', 'youve', 'zealous', 'zealous', 'zip']\n"
     ]
    }
   ],
   "source": [
    "sorted_words = []\n",
    "for word in sorted(cleaned_words):\n",
    "    sorted_words.append(word)\n",
    "    \n",
    "print(sorted_words[-10:])"
   ]
  },
  {
   "cell_type": "code",
   "execution_count": 5,
   "id": "2e8758d2",
   "metadata": {},
   "outputs": [
    {
     "name": "stdout",
     "output_type": "stream",
     "text": [
      "['youve', 'youve', 'youve', 'youve', 'youve', 'youve', 'youve', 'zealous', 'zealous', 'zip']\n"
     ]
    }
   ],
   "source": [
    "sorted_words = [word for word in sorted(cleaned_words)]\n",
    "\n",
    "print(sorted_words[-10:])"
   ]
  },
  {
   "cell_type": "code",
   "execution_count": 15,
   "id": "ec978a5b",
   "metadata": {},
   "outputs": [
    {
     "name": "stdout",
     "output_type": "stream",
     "text": [
      "138897\n"
     ]
    }
   ],
   "source": [
    "cleaned_words = []\n",
    "for word in words:\n",
    "    clean_word = \"\".join([letter for letter in word if letter in ascii_letters])\n",
    "    # clean_word = \"\"\n",
    "    # for letter in word:\n",
    "    #    if letter in ascii_letters:\n",
    "    #        clean_word += letter\n",
    "    if clean_word:\n",
    "        cleaned_words.append(clean_word.lower())\n",
    "        \n",
    "cleaned_words = []\n",
    "for word in words:\n",
    "    clean_word = \"\".join([letter for letter in word if letter in ascii_letters])\n",
    "    if clean_word:\n",
    "        cleaned_words.append(clean_word.lower())\n",
    "        \n",
    "print(len(cleaned_words))        "
   ]
  },
  {
   "cell_type": "code",
   "execution_count": 18,
   "id": "bcd6f3ce",
   "metadata": {},
   "outputs": [
    {
     "name": "stdout",
     "output_type": "stream",
     "text": [
      "6370\n",
      "['most', 'may', 'most', 'mail', 'monseigneur', 'monseigneur', 'made', 'mrs', 'made', 'messages']\n"
     ]
    }
   ],
   "source": [
    "m_words = [word for word in cleaned_words if word.startswith('m')]\n",
    "print(len(m_words))\n",
    "print(m_words[:10])"
   ]
  },
  {
   "cell_type": "code",
   "execution_count": 22,
   "id": "e04246b8",
   "metadata": {},
   "outputs": [
    {
     "name": "stdout",
     "output_type": "stream",
     "text": [
      "['ALL', 'ALL', 'ALL', 'ALL', 'ALL', 'ALL', 'ALL', 'ALL', 'ALL', 'ALL']\n"
     ]
    }
   ],
   "source": [
    "words_upper = [word.upper() for word in sorted_words]\n",
    "print(words_upper[5000:5010])"
   ]
  },
  {
   "cell_type": "code",
   "execution_count": 23,
   "id": "a6db3ba9",
   "metadata": {},
   "outputs": [
    {
     "name": "stdout",
     "output_type": "stream",
     "text": [
      "['Ubiquitous', 'Ubiquitous', 'Ud', 'Ugh', 'Uglier', 'Ugliness', 'Ugly', 'Ugly', 'Ugly', 'Ultimate']\n"
     ]
    }
   ],
   "source": [
    "words_utitle = [word.title() for word in sorted_words if word.startswith('u')]\n",
    "print(words_utitle[:10])"
   ]
  },
  {
   "cell_type": "code",
   "execution_count": 27,
   "id": "5e50a6a2",
   "metadata": {},
   "outputs": [
    {
     "name": "stdout",
     "output_type": "stream",
     "text": [
      "287\n",
      "['t', 'tabledrawers', 'taciturn', 'tackle', 'tact', 'tactician', 'tail', 'taint', 'takin', 'talisman']\n"
     ]
    }
   ],
   "source": [
    "t_words = [word for word in sorted_words if word.startswith('t') ]\n",
    "unique_t_words = [word for word in t_words if t_words.count(word) == 1]\n",
    "print(len(unique_t_words))\n",
    "print(unique_t_words[:10])"
   ]
  },
  {
   "cell_type": "code",
   "execution_count": null,
   "id": "20efebd4",
   "metadata": {},
   "outputs": [],
   "source": []
  }
 ],
 "metadata": {
  "kernelspec": {
   "display_name": "Python 3 (ipykernel)",
   "language": "python",
   "name": "python3"
  },
  "language_info": {
   "codemirror_mode": {
    "name": "ipython",
    "version": 3
   },
   "file_extension": ".py",
   "mimetype": "text/x-python",
   "name": "python",
   "nbconvert_exporter": "python",
   "pygments_lexer": "ipython3",
   "version": "3.9.7"
  }
 },
 "nbformat": 4,
 "nbformat_minor": 5
}
