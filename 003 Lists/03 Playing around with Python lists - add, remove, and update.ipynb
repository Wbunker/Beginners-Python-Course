{
 "cells": [
  {
   "cell_type": "code",
   "execution_count": 36,
   "id": "926a9949",
   "metadata": {},
   "outputs": [
    {
     "name": "stdout",
     "output_type": "stream",
     "text": [
      "['Bob', 'Joe', 'Mary', 'Sue']\n"
     ]
    }
   ],
   "source": [
    "# your dinner party\n",
    "guests = [\"Bob\", \"Bill\", \"Mary\", \"Sue\"]\n",
    "\n",
    "# bill can't make it but is sending Joe\n",
    "guests[1] = \"Joe\"\n",
    "print(guests)"
   ]
  },
  {
   "cell_type": "code",
   "execution_count": 37,
   "id": "d984b81e",
   "metadata": {},
   "outputs": [
    {
     "name": "stdout",
     "output_type": "stream",
     "text": [
      "['Bob', 'Joe', 'Mary', 'Sue', 'Mom']\n"
     ]
    }
   ],
   "source": [
    "# your mom wants to come over\n",
    "guests.append(\"Mom\")\n",
    "\n",
    "print(guests)"
   ]
  },
  {
   "cell_type": "code",
   "execution_count": 38,
   "id": "f45c7af6",
   "metadata": {},
   "outputs": [
    {
     "name": "stdout",
     "output_type": "stream",
     "text": [
      "['Bob', 'Joe', 'Mary', 'Bill', 'Sue', 'Mom']\n"
     ]
    }
   ],
   "source": [
    "# you want to put Bill into list after mary\n",
    "guests.insert(3, \"Bill\")\n",
    "print(guests)"
   ]
  },
  {
   "cell_type": "code",
   "execution_count": 39,
   "id": "f5feff43",
   "metadata": {},
   "outputs": [
    {
     "name": "stdout",
     "output_type": "stream",
     "text": [
      "Sorry you can't come, Mary\n",
      "['Bob', 'Joe', 'Bill', 'Sue', 'Mom']\n"
     ]
    }
   ],
   "source": [
    "# Mary can't make it\n",
    "name = guests.pop(2)\n",
    "print(f\"Sorry you can't come, {name}\")\n",
    "print(guests)"
   ]
  },
  {
   "cell_type": "code",
   "execution_count": 40,
   "id": "ac2d9c07",
   "metadata": {},
   "outputs": [
    {
     "name": "stdout",
     "output_type": "stream",
     "text": [
      "['Bob', 'Joe', 'Sue', 'Mom']\n"
     ]
    }
   ],
   "source": [
    "# bill drops out\n",
    "del guests[2]\n",
    "print(guests)"
   ]
  },
  {
   "cell_type": "code",
   "execution_count": 41,
   "id": "3731fdda",
   "metadata": {},
   "outputs": [
    {
     "name": "stdout",
     "output_type": "stream",
     "text": [
      "['Bob', 'Joe', 'Sue']\n"
     ]
    }
   ],
   "source": [
    "# mom doesn't want to come if Mary isn't there\n",
    "guests.remove('Mom')\n",
    "\n",
    "print(guests)"
   ]
  },
  {
   "cell_type": "code",
   "execution_count": 42,
   "id": "371bd7bb",
   "metadata": {},
   "outputs": [
    {
     "name": "stdout",
     "output_type": "stream",
     "text": [
      "['Bob', 'Joe', 'Sue', ['Ralph', 'Patricia', 'Jill']]\n"
     ]
    }
   ],
   "source": [
    "# someone sends over their guests to invite\n",
    "other = ['Ralph', 'Patricia', 'Jill']\n",
    "guests2 = guests[:]\n",
    "\n",
    "#wrong way\n",
    "guests2.append(other)\n",
    "print(guests2)"
   ]
  },
  {
   "cell_type": "code",
   "execution_count": 43,
   "id": "a4535b48",
   "metadata": {},
   "outputs": [
    {
     "name": "stdout",
     "output_type": "stream",
     "text": [
      "['Bob', 'Joe', 'Sue', 'Ralph', 'Patricia', 'Jill']\n"
     ]
    }
   ],
   "source": [
    "# use extend instead\n",
    "guests.extend(other)\n",
    "print(guests)"
   ]
  },
  {
   "cell_type": "code",
   "execution_count": 44,
   "id": "93bc02f9",
   "metadata": {},
   "outputs": [
    {
     "name": "stdout",
     "output_type": "stream",
     "text": [
      "Good evening, Bob\n",
      "Good evening, Joe\n",
      "So long since we have talked, Sue\n",
      "Where has the time gone, Ralph\n",
      "How is it going, Patricia\n",
      "Where has the time gone, Jill\n"
     ]
    }
   ],
   "source": [
    "# let's have some fun\n",
    "from random import choice\n",
    "greetings = ['Good evening', \n",
    "             'How is it going', \n",
    "             'Where has the time gone',\n",
    "             'So long since we have talked']\n",
    "\n",
    "for guest in guests:\n",
    "    print(f\"{choice(greetings)}, {guest}\")"
   ]
  },
  {
   "cell_type": "code",
   "execution_count": null,
   "id": "91d97edc",
   "metadata": {},
   "outputs": [],
   "source": []
  }
 ],
 "metadata": {
  "kernelspec": {
   "display_name": "Python 3 (ipykernel)",
   "language": "python",
   "name": "python3"
  },
  "language_info": {
   "codemirror_mode": {
    "name": "ipython",
    "version": 3
   },
   "file_extension": ".py",
   "mimetype": "text/x-python",
   "name": "python",
   "nbconvert_exporter": "python",
   "pygments_lexer": "ipython3",
   "version": "3.9.7"
  }
 },
 "nbformat": 4,
 "nbformat_minor": 5
}
