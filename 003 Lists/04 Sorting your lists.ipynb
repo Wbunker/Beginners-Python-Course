{
 "cells": [
  {
   "cell_type": "code",
   "execution_count": 13,
   "id": "a6f5c28a",
   "metadata": {},
   "outputs": [
    {
     "name": "stdout",
     "output_type": "stream",
     "text": [
      "pear\n",
      "watermelon\n",
      "orange\n",
      "banana\n",
      "grape\n",
      "apple\n"
     ]
    }
   ],
   "source": [
    "fruits = [\"apple\", \"grape\", \"banana\",\n",
    "          \"orange\", \"watermelon\", \"pear\"]\n",
    "\n",
    "# if you want to reverse a list\n",
    "# list in first out\n",
    "l2 = [1, 2, 3, 7, 9, 2, 5, 7]\n",
    "for fruit in reversed(fruits):\n",
    "    print(fruit)"
   ]
  },
  {
   "cell_type": "code",
   "execution_count": 14,
   "id": "ed49d8ab",
   "metadata": {},
   "outputs": [
    {
     "name": "stdout",
     "output_type": "stream",
     "text": [
      "apple\n",
      "banana\n",
      "grape\n",
      "orange\n",
      "pear\n",
      "watermelon\n"
     ]
    }
   ],
   "source": [
    "for fruit in sorted(fruits):\n",
    "    print(fruit)"
   ]
  },
  {
   "cell_type": "code",
   "execution_count": 10,
   "id": "7b2a6f83",
   "metadata": {},
   "outputs": [
    {
     "name": "stdout",
     "output_type": "stream",
     "text": [
      "watermelon\n",
      "pear\n",
      "orange\n",
      "grape\n",
      "banana\n",
      "apple\n"
     ]
    }
   ],
   "source": [
    "for fruit in sorted(fruits, reverse=True):\n",
    "    print(fruit)"
   ]
  },
  {
   "cell_type": "code",
   "execution_count": 8,
   "id": "68e18d9a",
   "metadata": {},
   "outputs": [
    {
     "name": "stdout",
     "output_type": "stream",
     "text": [
      "apple\n",
      "banana\n",
      "grape\n",
      "orange\n",
      "pear\n",
      "watermelon\n"
     ]
    }
   ],
   "source": [
    "# permenantly sort list\n",
    "fruits.sort()\n",
    "for fruit in fruits:\n",
    "    print(fruit)"
   ]
  },
  {
   "cell_type": "code",
   "execution_count": 9,
   "id": "ffad00ed",
   "metadata": {},
   "outputs": [
    {
     "name": "stdout",
     "output_type": "stream",
     "text": [
      "watermelon\n",
      "pear\n",
      "orange\n",
      "grape\n",
      "banana\n",
      "apple\n"
     ]
    }
   ],
   "source": [
    "# want to sort in reverse order\n",
    "fruits.sort(reverse=True)\n",
    "for fruit in fruits:\n",
    "    print(fruit)"
   ]
  },
  {
   "cell_type": "code",
   "execution_count": null,
   "id": "984a01de",
   "metadata": {},
   "outputs": [],
   "source": []
  }
 ],
 "metadata": {
  "kernelspec": {
   "display_name": "Python 3 (ipykernel)",
   "language": "python",
   "name": "python3"
  },
  "language_info": {
   "codemirror_mode": {
    "name": "ipython",
    "version": 3
   },
   "file_extension": ".py",
   "mimetype": "text/x-python",
   "name": "python",
   "nbconvert_exporter": "python",
   "pygments_lexer": "ipython3",
   "version": "3.9.7"
  }
 },
 "nbformat": 4,
 "nbformat_minor": 5
}
