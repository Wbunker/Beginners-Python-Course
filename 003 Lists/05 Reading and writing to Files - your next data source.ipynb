{
 "cells": [
  {
   "cell_type": "code",
   "execution_count": 48,
   "id": "ed387766",
   "metadata": {},
   "outputs": [
    {
     "name": "stdout",
     "output_type": "stream",
     "text": [
      "777046\n"
     ]
    }
   ],
   "source": [
    "with open('data/tale.txt', encoding='utf-8') as f:\n",
    "    all_text = f.read()\n",
    "    \n",
    "print(len(all_text))"
   ]
  },
  {
   "cell_type": "code",
   "execution_count": 49,
   "id": "5a55eb61",
   "metadata": {},
   "outputs": [
    {
     "name": "stdout",
     "output_type": "stream",
     "text": [
      "138965\n"
     ]
    }
   ],
   "source": [
    "words = all_text.split()\n",
    "\n",
    "print(len(words))"
   ]
  },
  {
   "cell_type": "code",
   "execution_count": 50,
   "id": "f471897c",
   "metadata": {},
   "outputs": [
    {
     "name": "stdout",
     "output_type": "stream",
     "text": [
      "abcdefghijklmnopqrstuvwxyzABCDEFGHIJKLMNOPQRSTUVWXYZ\n"
     ]
    }
   ],
   "source": [
    "print(ascii_letters)"
   ]
  },
  {
   "cell_type": "code",
   "execution_count": 51,
   "id": "277a7f1c",
   "metadata": {},
   "outputs": [],
   "source": [
    "cleaned_words = []\n",
    "for word in words:\n",
    "    clean_word = \"\"\n",
    "    for letter in word:\n",
    "        if letter in ascii_letters:\n",
    "            clean_word += letter\n",
    "    if clean_word:\n",
    "        cleaned_words.append(clean_word.lower())"
   ]
  },
  {
   "cell_type": "code",
   "execution_count": 56,
   "id": "966a3522",
   "metadata": {},
   "outputs": [
    {
     "name": "stdout",
     "output_type": "stream",
     "text": [
      "['youve', 'youve', 'youve', 'youve', 'youve', 'youve', 'youve', 'zealous', 'zealous', 'zip']\n"
     ]
    }
   ],
   "source": [
    "sorted_words = []\n",
    "for word in sorted(cleaned_words):\n",
    "    sorted_words.append(word)\n",
    "print(sorted_words[-10:])"
   ]
  },
  {
   "cell_type": "code",
   "execution_count": 53,
   "id": "bb6895b2",
   "metadata": {},
   "outputs": [],
   "source": [
    "with open('data/tale_sorted.txt', 'w') as f:\n",
    "    lines = \"\\n\".join(sorted_words)\n",
    "    f.write(lines)"
   ]
  },
  {
   "cell_type": "code",
   "execution_count": null,
   "id": "9b1a5e38",
   "metadata": {},
   "outputs": [],
   "source": []
  }
 ],
 "metadata": {
  "kernelspec": {
   "display_name": "Python 3 (ipykernel)",
   "language": "python",
   "name": "python3"
  },
  "language_info": {
   "codemirror_mode": {
    "name": "ipython",
    "version": 3
   },
   "file_extension": ".py",
   "mimetype": "text/x-python",
   "name": "python",
   "nbconvert_exporter": "python",
   "pygments_lexer": "ipython3",
   "version": "3.9.7"
  }
 },
 "nbformat": 4,
 "nbformat_minor": 5
}
