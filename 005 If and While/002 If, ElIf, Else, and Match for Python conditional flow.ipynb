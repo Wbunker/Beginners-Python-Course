{
 "cells": [
  {
   "cell_type": "code",
   "execution_count": 2,
   "id": "1ffa7a25",
   "metadata": {},
   "outputs": [
    {
     "name": "stdout",
     "output_type": "stream",
     "text": [
      "What is your age? -1\n",
      "You're not even born yet\n"
     ]
    }
   ],
   "source": [
    "while True:\n",
    "    age = input(\"What is your age? \")\n",
    "\n",
    "    try:\n",
    "        age = int(age)\n",
    "        break;\n",
    "    except ValueError:\n",
    "        print(\"You did not enter a number. Try again\\n\")\n",
    "    \n",
    "    \n",
    "if age <= 0:\n",
    "    print(\"You're not even born yet\")"
   ]
  },
  {
   "cell_type": "code",
   "execution_count": 3,
   "id": "6489ead2",
   "metadata": {},
   "outputs": [
    {
     "name": "stdout",
     "output_type": "stream",
     "text": [
      "You're not even born yet\n"
     ]
    }
   ],
   "source": [
    "if age <= 0:\n",
    "    print(\"You're not even born yet\")\n",
    "else:\n",
    "    print(\"You are at least here\")"
   ]
  },
  {
   "cell_type": "code",
   "execution_count": 4,
   "id": "4f37da98",
   "metadata": {},
   "outputs": [
    {
     "name": "stdout",
     "output_type": "stream",
     "text": [
      "You're not even born yet\n"
     ]
    }
   ],
   "source": [
    "if age <= 0:\n",
    "    print(\"You're not even born yet\")\n",
    "elif age < 18:\n",
    "    print(\"You can't vote yet!!!\")\n",
    "elif age < 21:\n",
    "    print(\"Too young to buy beer!!!!\")\n",
    "else:\n",
    "    print(\"You can buy beer\")"
   ]
  },
  {
   "cell_type": "code",
   "execution_count": 5,
   "id": "d757d3c2",
   "metadata": {},
   "outputs": [
    {
     "name": "stdout",
     "output_type": "stream",
     "text": [
      "Get to work!!!!!\n"
     ]
    }
   ],
   "source": [
    "age = 33\n",
    "if age <= 0:\n",
    "    print(\"You're not even born yet\")\n",
    "elif age < 18:\n",
    "    print(\"You can't vote yet!!!\")\n",
    "elif age < 21:\n",
    "    print(\"Too young to buy beer!!!!\")\n",
    "elif age < 65:\n",
    "    print(\"Get to work!!!!!\")"
   ]
  },
  {
   "cell_type": "code",
   "execution_count": 9,
   "id": "6ff81367",
   "metadata": {},
   "outputs": [
    {
     "name": "stdout",
     "output_type": "stream",
     "text": [
      "You are in a cave with 2 tunnels in front. \n",
      "Do you go right or left? neither\n",
      "You have to choose right or left!\n",
      "\n",
      "You are in a cave with 2 tunnels in front. \n",
      "Do you go right or left? left\n",
      "The dragon eats you\n"
     ]
    }
   ],
   "source": [
    "while True:\n",
    "    print(\"You are in a cave with 2 tunnels in front. \")\n",
    "    direction = input(\"Do you go right or left? \")\n",
    "    \n",
    "    match direction.lower():\n",
    "        case \"left\":\n",
    "            print(\"The dragon eats you\")\n",
    "            break\n",
    "        case \"right\":\n",
    "            print(\"You rescue the princess\")\n",
    "            break\n",
    "        case default:\n",
    "            print(\"You have to choose right or left!\\n\")\n",
    "    "
   ]
  },
  {
   "cell_type": "code",
   "execution_count": 7,
   "id": "2e2739ce",
   "metadata": {},
   "outputs": [
    {
     "name": "stdout",
     "output_type": "stream",
     "text": [
      "Get to work!!!!!\n"
     ]
    }
   ],
   "source": [
    "match age:\n",
    "    case x if x <0:\n",
    "        print(\"You're not even born yet\")\n",
    "    case x if x < 18:\n",
    "        print(\"You can't vote yet!!!\")\n",
    "    case x if x < 21:\n",
    "        print(\"Too young to buy beer!!!!\")\n",
    "    case x if x< 65:\n",
    "        print(\"Get to work!!!!!\")   "
   ]
  },
  {
   "cell_type": "code",
   "execution_count": null,
   "id": "065980b5",
   "metadata": {},
   "outputs": [],
   "source": []
  }
 ],
 "metadata": {
  "kernelspec": {
   "display_name": "3.11.1",
   "language": "python",
   "name": "3.11.1"
  },
  "language_info": {
   "codemirror_mode": {
    "name": "ipython",
    "version": 3
   },
   "file_extension": ".py",
   "mimetype": "text/x-python",
   "name": "python",
   "nbconvert_exporter": "python",
   "pygments_lexer": "ipython3",
   "version": "3.11.1"
  }
 },
 "nbformat": 4,
 "nbformat_minor": 5
}
