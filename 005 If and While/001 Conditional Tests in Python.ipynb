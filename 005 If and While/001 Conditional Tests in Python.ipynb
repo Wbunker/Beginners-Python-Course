{
 "cells": [
  {
   "cell_type": "code",
   "execution_count": 1,
   "id": "9f43fe95",
   "metadata": {},
   "outputs": [
    {
     "name": "stdout",
     "output_type": "stream",
     "text": [
      "I want a drink\n"
     ]
    }
   ],
   "source": [
    "x = \"CocaCola\"\n",
    "\n",
    "if x == \"CocaCola\":\n",
    "    print(\"I want a drink\")"
   ]
  },
  {
   "cell_type": "code",
   "execution_count": 2,
   "id": "021462ed",
   "metadata": {},
   "outputs": [
    {
     "name": "stdout",
     "output_type": "stream",
     "text": [
      "What kind of place is this!!\n"
     ]
    }
   ],
   "source": [
    "if x != \"Pepsi\":\n",
    "    print(\"What kind of place is this!!\")"
   ]
  },
  {
   "cell_type": "code",
   "execution_count": 3,
   "id": "d9c5de0f",
   "metadata": {},
   "outputs": [
    {
     "name": "stdout",
     "output_type": "stream",
     "text": [
      "Not too old\n"
     ]
    }
   ],
   "source": [
    "y = 20\n",
    "\n",
    "if y < 50:\n",
    "    print(\"Not too old\")"
   ]
  },
  {
   "cell_type": "code",
   "execution_count": 4,
   "id": "562c99e4",
   "metadata": {},
   "outputs": [
    {
     "name": "stdout",
     "output_type": "stream",
     "text": [
      "too young\n"
     ]
    }
   ],
   "source": [
    "if y > 22:\n",
    "    print(\"You can come inside\")\n",
    "else:\n",
    "    print(\"too young\")"
   ]
  },
  {
   "cell_type": "code",
   "execution_count": 6,
   "id": "1c7cfde2",
   "metadata": {},
   "outputs": [
    {
     "name": "stdout",
     "output_type": "stream",
     "text": [
      "too young\n"
     ]
    }
   ],
   "source": [
    "if y <= 20:\n",
    "    print(\"too young\")"
   ]
  },
  {
   "cell_type": "code",
   "execution_count": 7,
   "id": "90a78f84",
   "metadata": {},
   "outputs": [
    {
     "name": "stdout",
     "output_type": "stream",
     "text": [
      "Too old\n"
     ]
    }
   ],
   "source": [
    "if y >= 20:\n",
    "    print(\"Too old\")"
   ]
  },
  {
   "cell_type": "code",
   "execution_count": 8,
   "id": "837ad8f3",
   "metadata": {},
   "outputs": [
    {
     "name": "stdout",
     "output_type": "stream",
     "text": [
      "you are in luck\n"
     ]
    }
   ],
   "source": [
    "brands = [\"CocaCola\", \"Pepsi\", \"Fanta\"]\n",
    "\n",
    "if x in brands:\n",
    "    print(\"you are in luck\")"
   ]
  },
  {
   "cell_type": "code",
   "execution_count": 9,
   "id": "335c2901",
   "metadata": {},
   "outputs": [
    {
     "name": "stdout",
     "output_type": "stream",
     "text": [
      "You need to carry this\n"
     ]
    }
   ],
   "source": [
    "z = \"Monster\"\n",
    "if z not in brands:\n",
    "    print(\"You need to carry this\")"
   ]
  },
  {
   "cell_type": "code",
   "execution_count": 11,
   "id": "7ce2e7a6",
   "metadata": {},
   "outputs": [
    {
     "name": "stdout",
     "output_type": "stream",
     "text": [
      "You are eligible\n"
     ]
    }
   ],
   "source": [
    "if y >= 20 and x in brands:\n",
    "    print(\"You are eligible\")"
   ]
  },
  {
   "cell_type": "code",
   "execution_count": 12,
   "id": "38dac4cb",
   "metadata": {},
   "outputs": [
    {
     "name": "stdout",
     "output_type": "stream",
     "text": [
      "one of statements is true\n"
     ]
    }
   ],
   "source": [
    "if y >= 30 or x in brands:\n",
    "    print(\"one of statements is true\")"
   ]
  },
  {
   "cell_type": "code",
   "execution_count": 13,
   "id": "de9c3ed2",
   "metadata": {},
   "outputs": [
    {
     "name": "stdout",
     "output_type": "stream",
     "text": [
      "something true\n"
     ]
    }
   ],
   "source": [
    "if (y >=20 and z in brands) or (x in brands):\n",
    "    print(\"something true\")"
   ]
  },
  {
   "cell_type": "code",
   "execution_count": 14,
   "id": "eddd1587",
   "metadata": {},
   "outputs": [
    {
     "name": "stdout",
     "output_type": "stream",
     "text": [
      "neither true\n"
     ]
    }
   ],
   "source": [
    "if not((y >=20 and z in brands) or (x in brands)):\n",
    "    print(\"something true\")\n",
    "else:\n",
    "    print(\"neither true\")"
   ]
  },
  {
   "cell_type": "code",
   "execution_count": null,
   "id": "ab5acaf5",
   "metadata": {},
   "outputs": [],
   "source": []
  }
 ],
 "metadata": {
  "kernelspec": {
   "display_name": "Python 3 (ipykernel)",
   "language": "python",
   "name": "python3"
  },
  "language_info": {
   "codemirror_mode": {
    "name": "ipython",
    "version": 3
   },
   "file_extension": ".py",
   "mimetype": "text/x-python",
   "name": "python",
   "nbconvert_exporter": "python",
   "pygments_lexer": "ipython3",
   "version": "3.9.7"
  }
 },
 "nbformat": 4,
 "nbformat_minor": 5
}
